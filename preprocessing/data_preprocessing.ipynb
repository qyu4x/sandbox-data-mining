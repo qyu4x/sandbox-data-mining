{
  "nbformat": 4,
  "nbformat_minor": 0,
  "metadata": {
    "colab": {
      "provenance": []
    },
    "kernelspec": {
      "name": "python3",
      "display_name": "Python 3"
    },
    "language_info": {
      "name": "python"
    }
  },
  "cells": [
    {
      "cell_type": "code",
      "execution_count": 10,
      "metadata": {
        "id": "tsG94jj0MocZ"
      },
      "outputs": [],
      "source": [
        "import numpy as np\n",
        "import pandas as pd\n",
        "import matplotlib.pyplot as plt\n"
      ]
    },
    {
      "cell_type": "markdown",
      "source": [
        "Import library yang dibutuhkan untuk melakukan preprocessing dataset\n",
        "\n",
        "  1. Numpy merupakan library python yang digunakan untuk melakukan operasi numerik pada data, yang menyediakan berbagai fungsi matematika dan statistika yang dapat digunakan untuk mengolah data numerik dan komputasi matriks\n",
        "  2. Pandas merupakan library python yang untuk mengolah dan menganalisis data, pandas menyediakan struktut data seperti Series dan DataFrame yang sangat berguna untuk mengelola data tabular , serta menyediakan berbagai fungsi untuk memanipulasi, membersihkan dan mengabungkan data.\n",
        "  3. Matplotlib adalah library python yang diunakan untuk membuat visualisasi grafik dari data seperti chart, line chart, scatter plot etc.\n"
      ],
      "metadata": {
        "id": "d-yykGXCXKEs"
      }
    },
    {
      "cell_type": "code",
      "source": [
        "\n",
        "dataset = pd.read_csv('data/preprocessing.csv')\n",
        "dataset.describe\n"
      ],
      "metadata": {
        "id": "988T6NsJXR0s"
      },
      "execution_count": null,
      "outputs": []
    },
    {
      "cell_type": "markdown",
      "source": [
        "melakukan import dataset ke dalam variable dataset dengan pandas"
      ],
      "metadata": {
        "id": "eIFZzOFnYhDw"
      }
    },
    {
      "cell_type": "code",
      "source": [
        "attribute_x = dataset.iloc[:, :-1].values\n",
        "class_y = dataset.iloc[:, -1].values\n",
        "\n",
        "print(attribute_x)\n",
        "print(class_y)"
      ],
      "metadata": {
        "colab": {
          "base_uri": "https://localhost:8080/"
        },
        "id": "c4KsqovAesyS",
        "outputId": "2500a381-ea09-4d60-e5bd-f83eb73a62f2"
      },
      "execution_count": 19,
      "outputs": [
        {
          "output_type": "stream",
          "name": "stdout",
          "text": [
            "[['France' 44.0 72000.0]\n",
            " ['Spain' 27.0 48000.0]\n",
            " ['Germany' 30.0 54000.0]\n",
            " ['Spain' 38.0 61000.0]\n",
            " ['Germany' 40.0 nan]\n",
            " ['France' 35.0 58000.0]\n",
            " ['Spain' nan 52000.0]\n",
            " ['France' 48.0 79000.0]\n",
            " ['Germany' 50.0 83000.0]\n",
            " ['France' 37.0 67000.0]]\n",
            "['No' 'Yes' 'No' 'No' 'Yes' 'Yes' 'No' 'Yes' 'No' 'Yes']\n"
          ]
        }
      ]
    },
    {
      "cell_type": "markdown",
      "source": [
        "Memisahkan antara atribute dan class, dimana iloc merupakan library pandas yang digunakan untuk memisahkan column dari dataset\n",
        "\n",
        "1. Memasukan attribute di column 1-3 kedalam variable attribute_x\n",
        "2. Memasukan attribute di column 4 kedalam variable class_y"
      ],
      "metadata": {
        "id": "UBKg0YJUfCDi"
      }
    },
    {
      "cell_type": "code",
      "source": [
        "from sklearn.impute import SimpleImputer\n",
        "\n",
        "imputer = SimpleImputer(missing_values=np.nan, strategy='mean')\n",
        "imputer.fit(attribute_x[:, 1:])\n",
        "attribute_x[:, 1:] = imputer.transform(attribute_x[:, 1:])\n"
      ],
      "metadata": {
        "id": "9lrG9pXagsGF"
      },
      "execution_count": 30,
      "outputs": []
    },
    {
      "cell_type": "markdown",
      "source": [
        "Mengubah nilai Nan menjadi nilai rata-rata menggunakan function SimpleImputer dari library sklearn.impute\n",
        "\n"
      ],
      "metadata": {
        "id": "6hduvbsvhkJB"
      }
    },
    {
      "cell_type": "code",
      "source": [
        "print(attribute_x)"
      ],
      "metadata": {
        "colab": {
          "base_uri": "https://localhost:8080/"
        },
        "id": "8FtymtfckaSJ",
        "outputId": "934fffad-9825-41a4-b9fb-dc6aafc10bd3"
      },
      "execution_count": 31,
      "outputs": [
        {
          "output_type": "stream",
          "name": "stdout",
          "text": [
            "[[1.0 0.0 0.0 44.0 72000.0]\n",
            " [0.0 0.0 1.0 27.0 48000.0]\n",
            " [0.0 1.0 0.0 30.0 54000.0]\n",
            " [0.0 0.0 1.0 38.0 61000.0]\n",
            " [0.0 1.0 0.0 40.0 63777.77777777778]\n",
            " [1.0 0.0 0.0 35.0 58000.0]\n",
            " [0.0 0.0 1.0 38.77777777777778 52000.0]\n",
            " [1.0 0.0 0.0 48.0 79000.0]\n",
            " [0.0 1.0 0.0 50.0 83000.0]\n",
            " [1.0 0.0 0.0 37.0 67000.0]]\n"
          ]
        }
      ]
    },
    {
      "cell_type": "code",
      "source": [
        "from sklearn.compose import ColumnTransformer\n",
        "from sklearn.preprocessing import OneHotEncoder\n",
        "\n",
        "ct = ColumnTransformer(transformers=[('encoder', OneHotEncoder(), [0])], remainder='passthrough')\n",
        "attribute_x = np.array(ct.fit_transform(attribute_x))\n"
      ],
      "metadata": {
        "id": "ovtktB74kyuC"
      },
      "execution_count": 21,
      "outputs": []
    },
    {
      "cell_type": "code",
      "source": [
        "print(attribute_x)"
      ],
      "metadata": {
        "colab": {
          "base_uri": "https://localhost:8080/"
        },
        "id": "rLAGgbSgmlMR",
        "outputId": "612a18da-49b4-4f72-eea6-93b5f59c077e"
      },
      "execution_count": 32,
      "outputs": [
        {
          "output_type": "stream",
          "name": "stdout",
          "text": [
            "[[1.0 0.0 0.0 44.0 72000.0]\n",
            " [0.0 0.0 1.0 27.0 48000.0]\n",
            " [0.0 1.0 0.0 30.0 54000.0]\n",
            " [0.0 0.0 1.0 38.0 61000.0]\n",
            " [0.0 1.0 0.0 40.0 63777.77777777778]\n",
            " [1.0 0.0 0.0 35.0 58000.0]\n",
            " [0.0 0.0 1.0 38.77777777777778 52000.0]\n",
            " [1.0 0.0 0.0 48.0 79000.0]\n",
            " [0.0 1.0 0.0 50.0 83000.0]\n",
            " [1.0 0.0 0.0 37.0 67000.0]]\n"
          ]
        }
      ]
    },
    {
      "cell_type": "markdown",
      "source": [
        "Mengubah nominal(field country) kedalam berntuk matriks di encoding kedalam bentuk matriks mengguakan function ColumnTransformer dan\n",
        "OneHotEncoder untuk mengubah column contry kedalam bentuk matriks\n",
        "\n"
      ],
      "metadata": {
        "id": "v1D5igVdlsFz"
      }
    },
    {
      "cell_type": "code",
      "source": [
        "from sklearn.preprocessing import LabelEncoder\n",
        "\n",
        "label_encoder = LabelEncoder()\n",
        "class_y = label_encoder.fit_transform(class_y)"
      ],
      "metadata": {
        "id": "u_Uk9FmopEDA"
      },
      "execution_count": 33,
      "outputs": []
    },
    {
      "cell_type": "code",
      "source": [
        "print(class_y)"
      ],
      "metadata": {
        "colab": {
          "base_uri": "https://localhost:8080/"
        },
        "id": "Wf4XVWKyp6i3",
        "outputId": "07de9dd0-537e-4d31-d1e3-8a2bf5b91a49"
      },
      "execution_count": 34,
      "outputs": [
        {
          "output_type": "stream",
          "name": "stdout",
          "text": [
            "[0 1 0 0 1 1 0 1 0 1]\n"
          ]
        }
      ]
    },
    {
      "cell_type": "markdown",
      "source": [
        "Mengubah label(class) YES/NO kedalam bentuk numberik \n",
        "YES = 1\n",
        "NO = 0\n",
        "menggunakan LabelEncoder dari sklearn.preprocessing(khusus untuk label)"
      ],
      "metadata": {
        "id": "S_lsg7P8pEeh"
      }
    },
    {
      "cell_type": "code",
      "source": [
        "from sklearn.model_selection import train_test_split\n",
        "\n",
        "attribute_x_train, attribute_x_test, class_y_train, class_y_test = train_test_split(attribute_x, class_y, test_size=0.2, random_state=1)\n"
      ],
      "metadata": {
        "id": "MQdhXWPsqawJ"
      },
      "execution_count": 35,
      "outputs": []
    },
    {
      "cell_type": "code",
      "source": [
        "print(attribute_x_test)\n",
        "print(attribute_x_train)"
      ],
      "metadata": {
        "colab": {
          "base_uri": "https://localhost:8080/"
        },
        "id": "NbaEo39wrXt8",
        "outputId": "96221984-c261-44d2-d1d9-883475f9968d"
      },
      "execution_count": 36,
      "outputs": [
        {
          "output_type": "stream",
          "name": "stdout",
          "text": [
            "[[0.0 1.0 0.0 30.0 54000.0]\n",
            " [1.0 0.0 0.0 37.0 67000.0]]\n",
            "[[0.0 0.0 1.0 38.77777777777778 52000.0]\n",
            " [0.0 1.0 0.0 40.0 63777.77777777778]\n",
            " [1.0 0.0 0.0 44.0 72000.0]\n",
            " [0.0 0.0 1.0 38.0 61000.0]\n",
            " [0.0 0.0 1.0 27.0 48000.0]\n",
            " [1.0 0.0 0.0 48.0 79000.0]\n",
            " [0.0 1.0 0.0 50.0 83000.0]\n",
            " [1.0 0.0 0.0 35.0 58000.0]]\n"
          ]
        }
      ]
    },
    {
      "cell_type": "code",
      "source": [
        "print(class_y_test)\n",
        "print(class_y_train)"
      ],
      "metadata": {
        "colab": {
          "base_uri": "https://localhost:8080/"
        },
        "id": "zuXQwxUmrdjJ",
        "outputId": "bb03091f-0156-4c53-e3ce-30c5b647d636"
      },
      "execution_count": 37,
      "outputs": [
        {
          "output_type": "stream",
          "name": "stdout",
          "text": [
            "[0 1]\n",
            "[0 1 0 0 1 1 0 1]\n"
          ]
        }
      ]
    },
    {
      "cell_type": "markdown",
      "source": [
        "Membagi dataset menjadi data training dan data testing baik untuk attribute_x maupun class_y menggunakan funtion train_test_split dari sklearn.model_selection\n",
        "1. test_size = 0.2 maksudnya data test 20% data training 80%"
      ],
      "metadata": {
        "id": "LCYWBVwSqbY3"
      }
    },
    {
      "cell_type": "code",
      "source": [
        "from sklearn.preprocessing import StandardScaler\n",
        "\n",
        "sc = StandardScaler()\n",
        "attribute_x_train[:, 3:] = sc.fit_transform(attribute_x_train[:, 3:])\n",
        "attribute_x_test[:, 3:] = sc.fit_transform(attribute_x_test[:, 3:])\n"
      ],
      "metadata": {
        "id": "EfPkUtKar5M1"
      },
      "execution_count": 38,
      "outputs": []
    },
    {
      "cell_type": "code",
      "source": [
        "print(attribute_x_train)"
      ],
      "metadata": {
        "colab": {
          "base_uri": "https://localhost:8080/"
        },
        "id": "mvTMKwF6s04G",
        "outputId": "e391556b-7bc4-4af5-ddc5-2951220bc8ed"
      },
      "execution_count": 41,
      "outputs": [
        {
          "output_type": "stream",
          "name": "stdout",
          "text": [
            "[[0.0 0.0 1.0 -0.19159184384578545 -1.0781259408412425]\n",
            " [0.0 1.0 0.0 -0.014117293757057777 -0.07013167641635372]\n",
            " [1.0 0.0 0.0 0.566708506533324 0.633562432710455]\n",
            " [0.0 0.0 1.0 -0.30453019390224867 -0.30786617274297867]\n",
            " [0.0 0.0 1.0 -1.9018011447007988 -1.420463615551582]\n",
            " [1.0 0.0 0.0 1.1475343068237058 1.232653363453549]\n",
            " [0.0 1.0 0.0 1.4379472069688968 1.5749910381638885]\n",
            " [1.0 0.0 0.0 -0.7401495441200351 -0.5646194287757332]]\n"
          ]
        }
      ]
    },
    {
      "cell_type": "code",
      "source": [
        "print(attribute_x_test)"
      ],
      "metadata": {
        "colab": {
          "base_uri": "https://localhost:8080/"
        },
        "id": "R_u-WkmIs5x4",
        "outputId": "e2dfaf47-cec9-40ac-e87a-0b790267f9c4"
      },
      "execution_count": 40,
      "outputs": [
        {
          "output_type": "stream",
          "name": "stdout",
          "text": [
            "[[0.0 1.0 0.0 -1.0 -1.0]\n",
            " [1.0 0.0 0.0 1.0 1.0]]\n"
          ]
        }
      ]
    },
    {
      "cell_type": "markdown",
      "source": [
        "Kendala : Skala umur dan salary terlalu besar maka\n",
        "dalam komputasi harus di scale ke range yang lebih kecil kita scale di attribute_x_train dan attribute_x_train karena rangenya terlalu besar misal 20 dengan 40 ubah menjadi lebih dekat"
      ],
      "metadata": {
        "id": "8ihZLKsNr6HD"
      }
    },
    {
      "cell_type": "code",
      "source": [
        "print(attribute_x_train)"
      ],
      "metadata": {
        "colab": {
          "base_uri": "https://localhost:8080/"
        },
        "id": "BAk3FYZutBvf",
        "outputId": "c57a455e-4487-4be0-a636-2e5de9d8076d"
      },
      "execution_count": 42,
      "outputs": [
        {
          "output_type": "stream",
          "name": "stdout",
          "text": [
            "[[0.0 0.0 1.0 -0.19159184384578545 -1.0781259408412425]\n",
            " [0.0 1.0 0.0 -0.014117293757057777 -0.07013167641635372]\n",
            " [1.0 0.0 0.0 0.566708506533324 0.633562432710455]\n",
            " [0.0 0.0 1.0 -0.30453019390224867 -0.30786617274297867]\n",
            " [0.0 0.0 1.0 -1.9018011447007988 -1.420463615551582]\n",
            " [1.0 0.0 0.0 1.1475343068237058 1.232653363453549]\n",
            " [0.0 1.0 0.0 1.4379472069688968 1.5749910381638885]\n",
            " [1.0 0.0 0.0 -0.7401495441200351 -0.5646194287757332]]\n"
          ]
        }
      ]
    },
    {
      "cell_type": "code",
      "source": [
        "print(attribute_x_test)"
      ],
      "metadata": {
        "colab": {
          "base_uri": "https://localhost:8080/"
        },
        "id": "4zBE2bR_tH7n",
        "outputId": "d1b1cdf3-1dfc-4f4b-d822-89ec2c96c27a"
      },
      "execution_count": 43,
      "outputs": [
        {
          "output_type": "stream",
          "name": "stdout",
          "text": [
            "[[0.0 1.0 0.0 -1.0 -1.0]\n",
            " [1.0 0.0 0.0 1.0 1.0]]\n"
          ]
        }
      ]
    },
    {
      "cell_type": "code",
      "source": [
        "print(class_y_train)"
      ],
      "metadata": {
        "colab": {
          "base_uri": "https://localhost:8080/"
        },
        "id": "f_VLKPcAtLo9",
        "outputId": "7c7d2f60-0f50-481a-911c-6f065822bc77"
      },
      "execution_count": 44,
      "outputs": [
        {
          "output_type": "stream",
          "name": "stdout",
          "text": [
            "[0 1 0 0 1 1 0 1]\n"
          ]
        }
      ]
    },
    {
      "cell_type": "code",
      "source": [
        "print(class_y_test)"
      ],
      "metadata": {
        "colab": {
          "base_uri": "https://localhost:8080/"
        },
        "id": "1kFhAEp6tNzf",
        "outputId": "1986971b-6564-4c65-9b52-43d0b67af733"
      },
      "execution_count": 45,
      "outputs": [
        {
          "output_type": "stream",
          "name": "stdout",
          "text": [
            "[0 1]\n"
          ]
        }
      ]
    },
    {
      "cell_type": "markdown",
      "source": [],
      "metadata": {
        "id": "d4MclPpgsQxm"
      }
    }
  ]
}