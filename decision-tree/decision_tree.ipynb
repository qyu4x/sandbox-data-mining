{
  "nbformat": 4,
  "nbformat_minor": 0,
  "metadata": {
    "colab": {
      "provenance": []
    },
    "kernelspec": {
      "name": "python3",
      "display_name": "Python 3"
    },
    "language_info": {
      "name": "python"
    }
  },
  "cells": [
    {
      "cell_type": "code",
      "execution_count": 3,
      "metadata": {
        "id": "KomlYL2RXJfh"
      },
      "outputs": [],
      "source": [
        "from sklearn.tree import DecisionTreeClassifier\n",
        "from sklearn import datasets\n",
        "import matplotlib.pyplot as plt\n",
        "import pandas as pd\n",
        "import numpy as np\n"
      ]
    },
    {
      "cell_type": "code",
      "source": [
        "weather_dataset = pd.read_csv('seattle-weather.csv')\n",
        "weather_dataset.head()"
      ],
      "metadata": {
        "colab": {
          "base_uri": "https://localhost:8080/",
          "height": 206
        },
        "id": "zeg0BrkHby8Q",
        "outputId": "19f14b05-84c2-4f77-9953-bbb48083a446"
      },
      "execution_count": 91,
      "outputs": [
        {
          "output_type": "execute_result",
          "data": {
            "text/plain": [
              "         date  precipitation  temp_max  temp_min  wind  weather\n",
              "0  2012-01-01            0.0      12.8       5.0   4.7  drizzle\n",
              "1  2012-01-02           10.9      10.6       2.8   4.5     rain\n",
              "2  2012-01-03            0.8      11.7       7.2   2.3     rain\n",
              "3  2012-01-04           20.3      12.2       5.6   4.7     rain\n",
              "4  2012-01-05            1.3       8.9       2.8   6.1     rain"
            ],
            "text/html": [
              "\n",
              "  <div id=\"df-b157d9fc-abd4-4586-a91b-74384248f126\">\n",
              "    <div class=\"colab-df-container\">\n",
              "      <div>\n",
              "<style scoped>\n",
              "    .dataframe tbody tr th:only-of-type {\n",
              "        vertical-align: middle;\n",
              "    }\n",
              "\n",
              "    .dataframe tbody tr th {\n",
              "        vertical-align: top;\n",
              "    }\n",
              "\n",
              "    .dataframe thead th {\n",
              "        text-align: right;\n",
              "    }\n",
              "</style>\n",
              "<table border=\"1\" class=\"dataframe\">\n",
              "  <thead>\n",
              "    <tr style=\"text-align: right;\">\n",
              "      <th></th>\n",
              "      <th>date</th>\n",
              "      <th>precipitation</th>\n",
              "      <th>temp_max</th>\n",
              "      <th>temp_min</th>\n",
              "      <th>wind</th>\n",
              "      <th>weather</th>\n",
              "    </tr>\n",
              "  </thead>\n",
              "  <tbody>\n",
              "    <tr>\n",
              "      <th>0</th>\n",
              "      <td>2012-01-01</td>\n",
              "      <td>0.0</td>\n",
              "      <td>12.8</td>\n",
              "      <td>5.0</td>\n",
              "      <td>4.7</td>\n",
              "      <td>drizzle</td>\n",
              "    </tr>\n",
              "    <tr>\n",
              "      <th>1</th>\n",
              "      <td>2012-01-02</td>\n",
              "      <td>10.9</td>\n",
              "      <td>10.6</td>\n",
              "      <td>2.8</td>\n",
              "      <td>4.5</td>\n",
              "      <td>rain</td>\n",
              "    </tr>\n",
              "    <tr>\n",
              "      <th>2</th>\n",
              "      <td>2012-01-03</td>\n",
              "      <td>0.8</td>\n",
              "      <td>11.7</td>\n",
              "      <td>7.2</td>\n",
              "      <td>2.3</td>\n",
              "      <td>rain</td>\n",
              "    </tr>\n",
              "    <tr>\n",
              "      <th>3</th>\n",
              "      <td>2012-01-04</td>\n",
              "      <td>20.3</td>\n",
              "      <td>12.2</td>\n",
              "      <td>5.6</td>\n",
              "      <td>4.7</td>\n",
              "      <td>rain</td>\n",
              "    </tr>\n",
              "    <tr>\n",
              "      <th>4</th>\n",
              "      <td>2012-01-05</td>\n",
              "      <td>1.3</td>\n",
              "      <td>8.9</td>\n",
              "      <td>2.8</td>\n",
              "      <td>6.1</td>\n",
              "      <td>rain</td>\n",
              "    </tr>\n",
              "  </tbody>\n",
              "</table>\n",
              "</div>\n",
              "      <button class=\"colab-df-convert\" onclick=\"convertToInteractive('df-b157d9fc-abd4-4586-a91b-74384248f126')\"\n",
              "              title=\"Convert this dataframe to an interactive table.\"\n",
              "              style=\"display:none;\">\n",
              "        \n",
              "  <svg xmlns=\"http://www.w3.org/2000/svg\" height=\"24px\"viewBox=\"0 0 24 24\"\n",
              "       width=\"24px\">\n",
              "    <path d=\"M0 0h24v24H0V0z\" fill=\"none\"/>\n",
              "    <path d=\"M18.56 5.44l.94 2.06.94-2.06 2.06-.94-2.06-.94-.94-2.06-.94 2.06-2.06.94zm-11 1L8.5 8.5l.94-2.06 2.06-.94-2.06-.94L8.5 2.5l-.94 2.06-2.06.94zm10 10l.94 2.06.94-2.06 2.06-.94-2.06-.94-.94-2.06-.94 2.06-2.06.94z\"/><path d=\"M17.41 7.96l-1.37-1.37c-.4-.4-.92-.59-1.43-.59-.52 0-1.04.2-1.43.59L10.3 9.45l-7.72 7.72c-.78.78-.78 2.05 0 2.83L4 21.41c.39.39.9.59 1.41.59.51 0 1.02-.2 1.41-.59l7.78-7.78 2.81-2.81c.8-.78.8-2.07 0-2.86zM5.41 20L4 18.59l7.72-7.72 1.47 1.35L5.41 20z\"/>\n",
              "  </svg>\n",
              "      </button>\n",
              "      \n",
              "  <style>\n",
              "    .colab-df-container {\n",
              "      display:flex;\n",
              "      flex-wrap:wrap;\n",
              "      gap: 12px;\n",
              "    }\n",
              "\n",
              "    .colab-df-convert {\n",
              "      background-color: #E8F0FE;\n",
              "      border: none;\n",
              "      border-radius: 50%;\n",
              "      cursor: pointer;\n",
              "      display: none;\n",
              "      fill: #1967D2;\n",
              "      height: 32px;\n",
              "      padding: 0 0 0 0;\n",
              "      width: 32px;\n",
              "    }\n",
              "\n",
              "    .colab-df-convert:hover {\n",
              "      background-color: #E2EBFA;\n",
              "      box-shadow: 0px 1px 2px rgba(60, 64, 67, 0.3), 0px 1px 3px 1px rgba(60, 64, 67, 0.15);\n",
              "      fill: #174EA6;\n",
              "    }\n",
              "\n",
              "    [theme=dark] .colab-df-convert {\n",
              "      background-color: #3B4455;\n",
              "      fill: #D2E3FC;\n",
              "    }\n",
              "\n",
              "    [theme=dark] .colab-df-convert:hover {\n",
              "      background-color: #434B5C;\n",
              "      box-shadow: 0px 1px 3px 1px rgba(0, 0, 0, 0.15);\n",
              "      filter: drop-shadow(0px 1px 2px rgba(0, 0, 0, 0.3));\n",
              "      fill: #FFFFFF;\n",
              "    }\n",
              "  </style>\n",
              "\n",
              "      <script>\n",
              "        const buttonEl =\n",
              "          document.querySelector('#df-b157d9fc-abd4-4586-a91b-74384248f126 button.colab-df-convert');\n",
              "        buttonEl.style.display =\n",
              "          google.colab.kernel.accessAllowed ? 'block' : 'none';\n",
              "\n",
              "        async function convertToInteractive(key) {\n",
              "          const element = document.querySelector('#df-b157d9fc-abd4-4586-a91b-74384248f126');\n",
              "          const dataTable =\n",
              "            await google.colab.kernel.invokeFunction('convertToInteractive',\n",
              "                                                     [key], {});\n",
              "          if (!dataTable) return;\n",
              "\n",
              "          const docLinkHtml = 'Like what you see? Visit the ' +\n",
              "            '<a target=\"_blank\" href=https://colab.research.google.com/notebooks/data_table.ipynb>data table notebook</a>'\n",
              "            + ' to learn more about interactive tables.';\n",
              "          element.innerHTML = '';\n",
              "          dataTable['output_type'] = 'display_data';\n",
              "          await google.colab.output.renderOutput(dataTable, element);\n",
              "          const docLink = document.createElement('div');\n",
              "          docLink.innerHTML = docLinkHtml;\n",
              "          element.appendChild(docLink);\n",
              "        }\n",
              "      </script>\n",
              "    </div>\n",
              "  </div>\n",
              "  "
            ]
          },
          "metadata": {},
          "execution_count": 91
        }
      ]
    },
    {
      "cell_type": "code",
      "source": [
        "weather_dataset = weather_dataset.drop(labels='date', axis=1)"
      ],
      "metadata": {
        "id": "GC2NLB-1b4m0"
      },
      "execution_count": 92,
      "outputs": []
    },
    {
      "cell_type": "code",
      "source": [
        "attribute = weather_dataset.iloc[:,  0:4].values\n",
        "target = weather_dataset.iloc[:, -1].values"
      ],
      "metadata": {
        "id": "jxfum-ShcIjc"
      },
      "execution_count": 81,
      "outputs": []
    },
    {
      "cell_type": "code",
      "source": [
        "attribute"
      ],
      "metadata": {
        "colab": {
          "base_uri": "https://localhost:8080/"
        },
        "id": "7ZeRhxJecvVo",
        "outputId": "6db41d11-4107-4c6d-eb3a-6838a8d56d48"
      },
      "execution_count": 82,
      "outputs": [
        {
          "output_type": "execute_result",
          "data": {
            "text/plain": [
              "array([[ 0. , 12.8,  5. ,  4.7],\n",
              "       [10.9, 10.6,  2.8,  4.5],\n",
              "       [ 0.8, 11.7,  7.2,  2.3],\n",
              "       ...,\n",
              "       [ 0. ,  7.2,  0.6,  2.6],\n",
              "       [ 0. ,  5.6, -1. ,  3.4],\n",
              "       [ 0. ,  5.6, -2.1,  3.5]])"
            ]
          },
          "metadata": {},
          "execution_count": 82
        }
      ]
    },
    {
      "cell_type": "code",
      "source": [
        "target"
      ],
      "metadata": {
        "colab": {
          "base_uri": "https://localhost:8080/"
        },
        "id": "INPItBB1c1eL",
        "outputId": "4b822399-5074-4f33-f001-11451304d9f5"
      },
      "execution_count": 83,
      "outputs": [
        {
          "output_type": "execute_result",
          "data": {
            "text/plain": [
              "array(['drizzle', 'rain', 'rain', ..., 'fog', 'sun', 'sun'], dtype=object)"
            ]
          },
          "metadata": {},
          "execution_count": 83
        }
      ]
    },
    {
      "cell_type": "code",
      "source": [
        "from sklearn.preprocessing import LabelEncoder\n",
        "label_encoder = LabelEncoder()\n",
        "target = label_encoder.fit_transform(target)"
      ],
      "metadata": {
        "id": "weFRDPtpc3nU"
      },
      "execution_count": 93,
      "outputs": []
    },
    {
      "cell_type": "code",
      "source": [
        "target"
      ],
      "metadata": {
        "colab": {
          "base_uri": "https://localhost:8080/"
        },
        "id": "sMK0-HFNdO-V",
        "outputId": "9d341377-70d2-469f-e61b-f78aef379cf1"
      },
      "execution_count": 52,
      "outputs": [
        {
          "output_type": "execute_result",
          "data": {
            "text/plain": [
              "array([0, 2, 2, ..., 1, 4, 4])"
            ]
          },
          "metadata": {},
          "execution_count": 52
        }
      ]
    },
    {
      "cell_type": "code",
      "source": [
        "from sklearn.model_selection import train_test_split\n",
        "\n",
        "input_training, input_testing, target_training, target_testing = train_test_split(attribute, target, test_size = 0.3, random_state = 0)\n"
      ],
      "metadata": {
        "id": "4hfXxuR1dTAH"
      },
      "execution_count": 94,
      "outputs": []
    },
    {
      "cell_type": "code",
      "source": [
        "len(input_training)"
      ],
      "metadata": {
        "colab": {
          "base_uri": "https://localhost:8080/"
        },
        "id": "zH4rkDoNdvBF",
        "outputId": "e9fe855a-2c84-4f39-f923-628dd2cb8c76"
      },
      "execution_count": 65,
      "outputs": [
        {
          "output_type": "execute_result",
          "data": {
            "text/plain": [
              "1022"
            ]
          },
          "metadata": {},
          "execution_count": 65
        }
      ]
    },
    {
      "cell_type": "code",
      "source": [
        "len(input_testing)"
      ],
      "metadata": {
        "colab": {
          "base_uri": "https://localhost:8080/"
        },
        "id": "tocVglmRd7Pg",
        "outputId": "4c7cfd4a-1d34-4bc1-f669-af0de1f6a928"
      },
      "execution_count": 66,
      "outputs": [
        {
          "output_type": "execute_result",
          "data": {
            "text/plain": [
              "439"
            ]
          },
          "metadata": {},
          "execution_count": 66
        }
      ]
    },
    {
      "cell_type": "code",
      "source": [
        "len(attribute)"
      ],
      "metadata": {
        "colab": {
          "base_uri": "https://localhost:8080/"
        },
        "id": "LimDFS9Yd94Z",
        "outputId": "a6337674-e60a-454b-a31c-8a27701a9f17"
      },
      "execution_count": 67,
      "outputs": [
        {
          "output_type": "execute_result",
          "data": {
            "text/plain": [
              "1461"
            ]
          },
          "metadata": {},
          "execution_count": 67
        }
      ]
    },
    {
      "cell_type": "code",
      "source": [
        "# mendefinisikan decision tree classifier\n",
        "model = DecisionTreeClassifier()"
      ],
      "metadata": {
        "id": "DUL8Jlj7eBUd"
      },
      "execution_count": 95,
      "outputs": []
    },
    {
      "cell_type": "code",
      "source": [
        "# melakukan training\n",
        "model = model.fit(input_training, target_training)"
      ],
      "metadata": {
        "id": "M1vfgWPjeLtd"
      },
      "execution_count": 96,
      "outputs": []
    },
    {
      "cell_type": "code",
      "source": [
        "# melakukan prediksi\n",
        "predict_result = model.predict(input_testing)\n",
        "print('Actual label ', target_testing)\n",
        "print('Predict result', predict_result)"
      ],
      "metadata": {
        "colab": {
          "base_uri": "https://localhost:8080/"
        },
        "id": "jYJD-H6KeeDq",
        "outputId": "9fbc8033-f658-477e-ae9b-0023d28183de"
      },
      "execution_count": 97,
      "outputs": [
        {
          "output_type": "stream",
          "name": "stdout",
          "text": [
            "Actual label  [4 4 2 4 4 2 2 2 1 2 4 2 1 4 4 4 4 2 2 2 2 2 2 4 4 1 1 2 1 4 2 4 2 2 4 2 4\n",
            " 2 1 2 0 2 2 2 0 1 1 2 4 4 4 4 4 2 2 4 4 2 4 2 4 1 4 4 4 2 4 4 4 2 2 2 2 4\n",
            " 1 4 4 4 2 2 1 4 2 2 2 4 1 2 4 2 4 0 2 4 2 3 4 4 4 2 2 2 2 2 3 0 2 2 4 4 2\n",
            " 4 2 2 4 4 4 4 2 2 2 2 2 4 2 2 4 0 4 2 2 2 4 2 2 2 4 4 4 4 2 2 4 4 4 2 2 4\n",
            " 0 4 2 1 4 2 4 2 4 4 2 1 4 4 2 4 2 2 4 2 2 2 1 1 4 4 2 2 1 4 4 4 4 4 2 2 2\n",
            " 4 4 1 2 4 4 4 1 0 2 2 4 1 4 0 3 4 4 4 2 2 2 1 4 4 3 2 2 2 4 1 1 2 2 2 0 4\n",
            " 4 2 1 4 4 4 2 4 4 2 2 2 2 4 2 1 2 2 2 2 4 2 2 4 2 1 4 1 4 0 2 3 4 4 4 4 4\n",
            " 4 3 4 1 4 4 2 4 2 4 1 4 4 2 2 4 4 2 4 2 4 2 2 2 4 4 4 2 2 2 4 4 2 4 2 4 2\n",
            " 2 4 2 4 2 4 4 4 2 4 4 2 2 0 2 1 2 2 4 4 2 2 2 4 2 4 2 2 4 4 2 2 2 4 4 2 4\n",
            " 4 2 4 4 4 2 4 4 4 4 2 4 4 2 2 4 2 4 4 4 4 2 4 4 2 4 4 4 2 1 2 2 4 2 4 2 4\n",
            " 4 4 2 4 3 2 2 2 2 4 4 2 2 2 4 2 0 4 2 2 4 2 2 4 2 4 4 2 2 1 4 4 2 4 0 2 2\n",
            " 4 2 0 4 2 2 2 0 2 2 2 1 2 4 2 4 2 4 4 2 1 2 4 2 2 2 2 3 1 4 2 2]\n",
            "Predict result [4 0 2 0 1 2 2 2 4 2 0 2 4 4 0 4 0 2 2 2 2 2 2 0 0 4 4 2 4 4 2 2 2 2 2 2 4\n",
            " 2 1 2 4 2 2 2 0 2 4 4 4 4 4 4 4 2 2 0 4 2 4 2 4 4 4 4 1 2 4 4 4 2 2 3 2 1\n",
            " 1 4 4 4 2 2 4 4 2 2 2 0 4 2 4 2 4 4 2 4 2 3 4 4 4 1 2 2 4 2 2 0 2 2 4 4 2\n",
            " 4 2 4 4 4 4 2 2 2 4 2 2 0 2 1 4 0 4 2 4 2 4 2 2 2 0 4 4 4 2 2 4 4 1 2 2 4\n",
            " 1 4 4 4 4 2 1 2 4 4 2 4 4 0 2 1 2 2 1 2 2 2 0 1 4 4 2 2 4 4 4 4 4 4 2 1 2\n",
            " 1 4 2 2 2 4 4 4 4 2 2 4 0 4 4 2 2 0 4 2 2 2 1 1 0 3 2 2 2 1 4 0 2 2 2 2 4\n",
            " 4 2 4 4 4 4 2 4 0 2 2 2 2 1 2 2 2 2 4 2 4 2 2 0 2 4 0 4 4 4 2 3 4 4 4 4 4\n",
            " 4 2 1 4 4 1 2 4 2 4 1 4 4 2 2 0 4 2 4 2 4 2 2 2 4 0 4 2 4 2 4 1 2 4 2 4 2\n",
            " 2 4 2 4 2 4 4 2 2 4 4 2 2 4 2 4 2 2 4 1 2 2 2 4 2 1 2 2 4 4 2 2 2 4 4 2 4\n",
            " 4 2 1 2 4 2 2 4 4 4 2 1 4 2 2 4 2 4 4 1 4 2 2 4 2 4 4 4 2 4 2 2 4 2 4 2 4\n",
            " 4 2 2 4 3 2 2 2 2 4 4 2 2 2 4 2 4 4 2 2 4 2 2 4 2 1 1 2 2 4 4 4 2 4 0 2 2\n",
            " 4 2 1 4 2 2 2 2 2 2 2 4 2 4 3 2 4 4 4 2 2 2 4 2 2 2 4 2 0 0 2 2]\n"
          ]
        }
      ]
    },
    {
      "cell_type": "code",
      "source": [
        "# accuracy\n",
        "correct_predict = (predict_result == target_testing).sum()\n",
        "wrong_predict = (predict_result != target_testing).sum()\n",
        "\n",
        "print('correct : ', correct_predict)\n",
        "print('wrong : ', wrong_predict)\n",
        "\n",
        "print('accuracy: ', correct_predict/(correct_predict + wrong_predict) * 100, \"%\")"
      ],
      "metadata": {
        "colab": {
          "base_uri": "https://localhost:8080/"
        },
        "id": "t5kwA3LFe8CR",
        "outputId": "b39d2343-8d4f-44f5-c805-a431c3666391"
      },
      "execution_count": 111,
      "outputs": [
        {
          "output_type": "stream",
          "name": "stdout",
          "text": [
            "correct :  327\n",
            "wrong :  112\n",
            "accuracy:  74.4874715261959 %\n"
          ]
        }
      ]
    },
    {
      "cell_type": "code",
      "source": [
        "from sklearn.tree import DecisionTreeClassifier, export_graphviz\n",
        "from IPython.display import Image\n",
        "import graphviz\n",
        "\n",
        "# train decision tree\n",
        "clf = DecisionTreeClassifier()\n",
        "clf.fit(input_training, target_training)\n"
      ],
      "metadata": {
        "colab": {
          "base_uri": "https://localhost:8080/",
          "height": 74
        },
        "id": "yqRAjwQRi1_V",
        "outputId": "a9c50e33-92c9-4e2b-ec0f-70bea423131d"
      },
      "execution_count": 112,
      "outputs": [
        {
          "output_type": "execute_result",
          "data": {
            "text/plain": [
              "DecisionTreeClassifier()"
            ],
            "text/html": [
              "<style>#sk-container-id-2 {color: black;background-color: white;}#sk-container-id-2 pre{padding: 0;}#sk-container-id-2 div.sk-toggleable {background-color: white;}#sk-container-id-2 label.sk-toggleable__label {cursor: pointer;display: block;width: 100%;margin-bottom: 0;padding: 0.3em;box-sizing: border-box;text-align: center;}#sk-container-id-2 label.sk-toggleable__label-arrow:before {content: \"▸\";float: left;margin-right: 0.25em;color: #696969;}#sk-container-id-2 label.sk-toggleable__label-arrow:hover:before {color: black;}#sk-container-id-2 div.sk-estimator:hover label.sk-toggleable__label-arrow:before {color: black;}#sk-container-id-2 div.sk-toggleable__content {max-height: 0;max-width: 0;overflow: hidden;text-align: left;background-color: #f0f8ff;}#sk-container-id-2 div.sk-toggleable__content pre {margin: 0.2em;color: black;border-radius: 0.25em;background-color: #f0f8ff;}#sk-container-id-2 input.sk-toggleable__control:checked~div.sk-toggleable__content {max-height: 200px;max-width: 100%;overflow: auto;}#sk-container-id-2 input.sk-toggleable__control:checked~label.sk-toggleable__label-arrow:before {content: \"▾\";}#sk-container-id-2 div.sk-estimator input.sk-toggleable__control:checked~label.sk-toggleable__label {background-color: #d4ebff;}#sk-container-id-2 div.sk-label input.sk-toggleable__control:checked~label.sk-toggleable__label {background-color: #d4ebff;}#sk-container-id-2 input.sk-hidden--visually {border: 0;clip: rect(1px 1px 1px 1px);clip: rect(1px, 1px, 1px, 1px);height: 1px;margin: -1px;overflow: hidden;padding: 0;position: absolute;width: 1px;}#sk-container-id-2 div.sk-estimator {font-family: monospace;background-color: #f0f8ff;border: 1px dotted black;border-radius: 0.25em;box-sizing: border-box;margin-bottom: 0.5em;}#sk-container-id-2 div.sk-estimator:hover {background-color: #d4ebff;}#sk-container-id-2 div.sk-parallel-item::after {content: \"\";width: 100%;border-bottom: 1px solid gray;flex-grow: 1;}#sk-container-id-2 div.sk-label:hover label.sk-toggleable__label {background-color: #d4ebff;}#sk-container-id-2 div.sk-serial::before {content: \"\";position: absolute;border-left: 1px solid gray;box-sizing: border-box;top: 0;bottom: 0;left: 50%;z-index: 0;}#sk-container-id-2 div.sk-serial {display: flex;flex-direction: column;align-items: center;background-color: white;padding-right: 0.2em;padding-left: 0.2em;position: relative;}#sk-container-id-2 div.sk-item {position: relative;z-index: 1;}#sk-container-id-2 div.sk-parallel {display: flex;align-items: stretch;justify-content: center;background-color: white;position: relative;}#sk-container-id-2 div.sk-item::before, #sk-container-id-2 div.sk-parallel-item::before {content: \"\";position: absolute;border-left: 1px solid gray;box-sizing: border-box;top: 0;bottom: 0;left: 50%;z-index: -1;}#sk-container-id-2 div.sk-parallel-item {display: flex;flex-direction: column;z-index: 1;position: relative;background-color: white;}#sk-container-id-2 div.sk-parallel-item:first-child::after {align-self: flex-end;width: 50%;}#sk-container-id-2 div.sk-parallel-item:last-child::after {align-self: flex-start;width: 50%;}#sk-container-id-2 div.sk-parallel-item:only-child::after {width: 0;}#sk-container-id-2 div.sk-dashed-wrapped {border: 1px dashed gray;margin: 0 0.4em 0.5em 0.4em;box-sizing: border-box;padding-bottom: 0.4em;background-color: white;}#sk-container-id-2 div.sk-label label {font-family: monospace;font-weight: bold;display: inline-block;line-height: 1.2em;}#sk-container-id-2 div.sk-label-container {text-align: center;}#sk-container-id-2 div.sk-container {/* jupyter's `normalize.less` sets `[hidden] { display: none; }` but bootstrap.min.css set `[hidden] { display: none !important; }` so we also need the `!important` here to be able to override the default hidden behavior on the sphinx rendered scikit-learn.org. See: https://github.com/scikit-learn/scikit-learn/issues/21755 */display: inline-block !important;position: relative;}#sk-container-id-2 div.sk-text-repr-fallback {display: none;}</style><div id=\"sk-container-id-2\" class=\"sk-top-container\"><div class=\"sk-text-repr-fallback\"><pre>DecisionTreeClassifier()</pre><b>In a Jupyter environment, please rerun this cell to show the HTML representation or trust the notebook. <br />On GitHub, the HTML representation is unable to render, please try loading this page with nbviewer.org.</b></div><div class=\"sk-container\" hidden><div class=\"sk-item\"><div class=\"sk-estimator sk-toggleable\"><input class=\"sk-toggleable__control sk-hidden--visually\" id=\"sk-estimator-id-2\" type=\"checkbox\" checked><label for=\"sk-estimator-id-2\" class=\"sk-toggleable__label sk-toggleable__label-arrow\">DecisionTreeClassifier</label><div class=\"sk-toggleable__content\"><pre>DecisionTreeClassifier()</pre></div></div></div></div></div>"
            ]
          },
          "metadata": {},
          "execution_count": 112
        }
      ]
    },
    {
      "cell_type": "code",
      "source": [
        "# Export the trained decision tree to a DOT file\n",
        "dot_data = export_graphviz(clf, out_file=None, \n",
        "                           feature_names=['precipitation', 'temp_max', 'temp_min', 'wind'],  \n",
        "                           class_names=weather_dataset['weather'].unique(),  \n",
        "                           filled=True, rounded=True,  \n",
        "                           special_characters=True)\n",
        "graph = graphviz.Source(dot_data)\n",
        "\n",
        "# save decision tree sebagai png\n",
        "graph.format = 'png'\n",
        "graph.render('weather_decision_tree', view=True)"
      ],
      "metadata": {
        "colab": {
          "base_uri": "https://localhost:8080/",
          "height": 36
        },
        "id": "Gux7_y_4k9nu",
        "outputId": "08307e51-8566-4037-81fb-25a2e3a038f2"
      },
      "execution_count": 113,
      "outputs": [
        {
          "output_type": "execute_result",
          "data": {
            "text/plain": [
              "'weather_decision_tree.png'"
            ],
            "application/vnd.google.colaboratory.intrinsic+json": {
              "type": "string"
            }
          },
          "metadata": {},
          "execution_count": 113
        }
      ]
    }
  ]
}